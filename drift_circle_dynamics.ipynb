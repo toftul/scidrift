{
 "cells": [
  {
   "cell_type": "markdown",
   "id": "beec1d6c-b180-48a0-ba60-d9491fee098b",
   "metadata": {},
   "source": [
    "# Science of drifting\n",
    "\n",
    "Steps to consider:\n",
    "1. A stick drifts around the circle. Front wheels are tight to the trajectory. No friction.\n",
    "2. The same but with friction.\n",
    "3. The same but wheels are not connected to the trajectory."
   ]
  },
  {
   "cell_type": "markdown",
   "id": "026d1693-4d7a-4b80-9cc8-10c0394a6102",
   "metadata": {},
   "source": [
    "## A drfting stick with no friction"
   ]
  },
  {
   "cell_type": "code",
   "execution_count": 2,
   "id": "95c1e141-e812-477a-b57a-8002feb95ad5",
   "metadata": {},
   "outputs": [
    {
     "name": "stdout",
     "output_type": "stream",
     "text": [
      "pygame 2.1.2 (SDL 2.0.16, Python 3.10.4)\n",
      "Hello from the pygame community. https://www.pygame.org/contribute.html\n"
     ]
    }
   ],
   "source": [
    "import pygame\n",
    "import math\n",
    "import numpy as np"
   ]
  },
  {
   "cell_type": "code",
   "execution_count": 5,
   "id": "f9f52117-f8ba-46bd-a313-c543b379fbef",
   "metadata": {},
   "outputs": [],
   "source": [
    "# colors\n",
    "WHITE = (255, 255, 255)\n",
    "YELLOW = (255, 255, 0)\n",
    "BLUE = (100, 149, 237)\n",
    "RED = (188, 39, 50)\n",
    "DARK_GREY = (80, 78, 81)\n",
    "BLACK = (0, 0, 0)"
   ]
  },
  {
   "cell_type": "code",
   "execution_count": 3,
   "id": "a1843af9-dc55-44ae-835a-fe3e688fc01b",
   "metadata": {},
   "outputs": [],
   "source": [
    "class Car:\n",
    "    dt = 1e-1  # time step\n",
    "    \n",
    "    def __init__(self, x, y, angle, length,\n",
    "                 mass, moment_of_inertia, \n",
    "                 weight_distribution_back_fraction, power):\n",
    "        # position\n",
    "        self.x = x\n",
    "        self.y = y\n",
    "        self.angle = angle\n",
    "        \n",
    "        # velocity\n",
    "        self.vx = 0\n",
    "        self.vy = 0\n",
    "        \n",
    "        # mass properties\n",
    "        self.mass = mass\n",
    "        self.moment_of_inertia = moment_of_inertia\n",
    "        # ex.: 0.4 means that 0.4 is on the back wheels and 0.6 is on front wheels\n",
    "        self.weight_distribution_back_fraction = weight_distribution_back_fraction\n",
    "        \n",
    "        # geometry\n",
    "        self.length = length\n",
    "        \n",
    "        # dynamics properties\n",
    "        self.power = power\n",
    "        \n",
    "        # stats\n",
    "        self.v = 0  # absolute value of the speed \n",
    "        \n",
    "        \n",
    "    def draw(self, win):\n",
    "        pygame.draw.lines(\n",
    "            win,  # window\n",
    "            RED,  # color\n",
    "            False,  # this is a closed line\n",
    "            updated_points,  # points \n",
    "            2  # linewidth\n",
    "        )\n"
   ]
  },
  {
   "cell_type": "code",
   "execution_count": 4,
   "id": "0540529c-28f7-46fe-ae29-a716c394e9bd",
   "metadata": {},
   "outputs": [],
   "source": [
    "pygame.init()\n",
    "\n",
    "WIDTH, HEIGHT =  800, 800\n",
    "WIN = pygame.display.set_mode((WIDTH, HEIGHT))\n",
    "pygame.display.set_caption(\"Science of drifting\")\n",
    "\n",
    "# https://en.wikipedia.org/wiki/List_of_moments_of_inertia\n",
    "mass = 1300  # [kg]\n",
    "length = 3  # [m]\n",
    "intertia = 1/12 * mass * length**2  # [m kg^2]\n",
    "\n",
    "# init car\n",
    "supra = Car(\n",
    "    x=0, y=0, angle=0, \n",
    "    length=length, mass=mass,\n",
    "    moment_of_inertia=intertia, \n",
    "    weight_distribution_back_fraction=0.5, power=300\n",
    ")\n",
    "\n",
    "\n",
    "run = True\n",
    "clock = pygame.time.Clock()\n",
    "\n",
    "while run:\n",
    "    clock.tick(60)  # 60 fps\n",
    "    WIN.fill(BLACK)\n",
    "    \n",
    "    for event in pygame.event.get():\n",
    "        if event.type == pygame.QUIT:\n",
    "            run = False\n",
    "    \n",
    "    #supra.update_position()\n",
    "    #supra.draw(WIN)\n",
    "    \n",
    "    \n",
    "    pygame.display.update()\n",
    "    \n",
    "pygame.quit()"
   ]
  },
  {
   "cell_type": "code",
   "execution_count": null,
   "id": "8974f543-2de7-455a-bac8-a955c3944c33",
   "metadata": {},
   "outputs": [],
   "source": []
  }
 ],
 "metadata": {
  "kernelspec": {
   "display_name": "Python 3 (ipykernel)",
   "language": "python",
   "name": "python3"
  },
  "language_info": {
   "codemirror_mode": {
    "name": "ipython",
    "version": 3
   },
   "file_extension": ".py",
   "mimetype": "text/x-python",
   "name": "python",
   "nbconvert_exporter": "python",
   "pygments_lexer": "ipython3",
   "version": "3.9.7"
  },
  "toc-autonumbering": true
 },
 "nbformat": 4,
 "nbformat_minor": 5
}
